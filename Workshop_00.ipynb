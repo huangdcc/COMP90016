{
 "cells": [
  {
   "cell_type": "markdown",
   "metadata": {},
   "source": [
    "# Week 0 - Jupyter notebooks"
   ]
  },
  {
   "cell_type": "markdown",
   "metadata": {},
   "source": [
    "<div class=\"info\">\n",
    "The aim of this workshop is to get everyone set up with an environment to run Jupyter Notebooks (either on your laptop or remotely via Google Colab) and to help you get comfortable with programming in Jupyter notebooks. Below are some Jupyter notebook basics.\n",
    "\n",
    "Ideally you should be running the workshop and assignment notebooks for this subject in a virtual env (i.e. conda) with the latest version of Python (v3.10+) and have access to a Unix terminal.\n",
    "\n",
    "If you can't run notebooks locally you can:\n",
    "- Upload the notebook and data to [Google Colab](https://colab.research.google.com), or \n",
    "- Create a container with [Binder](https://mybinder.org/v2/gh/melbournebioinformatics/COMP90016/main)\n",
    "</div>"
   ]
  },
  {
   "cell_type": "markdown",
   "metadata": {},
   "source": [
    "### Sourcing remote files\n",
    "\n",
    "Some workshops will require you to download datasets from the weekly workshop module on Canvas.\n",
    "\n",
    "For small datasets and other files we can source them from a URL."
   ]
  },
  {
   "cell_type": "markdown",
   "metadata": {},
   "source": [
    "#### Styling the notebook \n",
    "\n",
    "First up, let's source a CSS stylesheet to update the formatting in this notebook! \n",
    "(Note: This won't work if you are using VSCode to run the notebook.)"
   ]
  },
  {
   "cell_type": "code",
   "execution_count": null,
   "metadata": {},
   "outputs": [],
   "source": [
    "import requests\n",
    "from IPython.core.display import HTML\n",
    "\n",
    "def load_css_from_url(url):\n",
    "    r = requests.get(url)\n",
    "    return HTML(r.text)"
   ]
  },
  {
   "cell_type": "code",
   "execution_count": null,
   "metadata": {},
   "outputs": [],
   "source": [
    "css_url = 'https://raw.githubusercontent.com/melbournebioinformatics/COMP90016/main/data/2023/style/custom.css'\n",
    "\n",
    "load_css_from_url(css_url)"
   ]
  },
  {
   "cell_type": "markdown",
   "metadata": {},
   "source": [
    "#### Fetching a remote file from a URL\n",
    "Now let's fetch an individual file"
   ]
  },
  {
   "cell_type": "code",
   "execution_count": null,
   "metadata": {},
   "outputs": [],
   "source": [
    "import os\n",
    "\n",
    "def fetch_file(url): \n",
    "    response = requests.get(url)\n",
    "    if response.status_code == 200:\n",
    "        print('file found')\n",
    "        filename = os.path.basename(url)\n",
    "        with open(filename, 'wb') as f:\n",
    "            f.write(response.content)\n",
    "            f.close()\n",
    "        print(f'Saved to: {filename}')\n",
    "    else:\n",
    "        print('File not found')"
   ]
  },
  {
   "cell_type": "code",
   "execution_count": null,
   "metadata": {},
   "outputs": [],
   "source": [
    "url = 'https://raw.githubusercontent.com/melbournebioinformatics/COMP90016/main/data/2023/Workshop_01/data/dnaA.fa'\n",
    "\n",
    "fetch_file(url)"
   ]
  },
  {
   "cell_type": "markdown",
   "metadata": {},
   "source": [
    "We can inspect the file by calling the shell command `head` "
   ]
  },
  {
   "cell_type": "code",
   "execution_count": null,
   "metadata": {},
   "outputs": [],
   "source": [
    "!head dnaA.fa"
   ]
  },
  {
   "cell_type": "markdown",
   "metadata": {},
   "source": [
    "## Jupyter\n",
    "\n",
    "We will be using Jupyter notebooks in a Jupyter lab environment for programming tasks in workshops and assignments.\n",
    "\n",
    "Here are some terms we will use throughout the semester:\n",
    "\n",
    "1. Jupyter notebook - the documents where you will write code and answer questions (.ipynb files). You are looking at a Jupyter notebook right now!\n",
    "2. Jupyter lab - a browser based environment to code in (this is where you edit your notebooks).\n",
    "\n",
    "\n",
    "### Jupyter notebooks\n",
    "\n",
    "* Jupyter notebooks provide an interactive and reproducible programming environment.\n",
    "* Jupyter notebooks allow you to merge code with text in the form of markdown.\n",
    "* This means that documents don't need to be static. Users can interact with notebooks, change code, play with interactive figures, and lots more...\n",
    "\n",
    "For more information visit <https://jupyter.org/>"
   ]
  },
  {
   "cell_type": "markdown",
   "metadata": {},
   "source": [
    "## Features of Jupyter notebooks\n",
    "\n",
    "Jupyter notebooks (like this one) are organised into cells. If you double click this text, you can see (and edit) the content in the cell. Use Shift-Enter (or Shift-Return) to execute the cell."
   ]
  },
  {
   "cell_type": "markdown",
   "metadata": {},
   "source": [
    "### Markdown cells\n",
    "\n",
    "This cell is a markdown cell. It appears as text. \n",
    "\n",
    "In markdown cells, you can format headings with \"#\" or subheadings with \"##\". \n",
    "\n",
    "You can also use **bold** or _italic_ type...\n",
    "* or bullet points\n",
    "1. or even numbered lists.\n",
    "\n",
    "Double click this cell to see how these elements are encoded."
   ]
  },
  {
   "cell_type": "markdown",
   "metadata": {},
   "source": [
    "### Code cells\n",
    "\n",
    "The cell below is a code cell. Underneath is the output of that code.\n",
    "\n",
    "The Jupyter notebooks we use for this subject will always use Python 3."
   ]
  },
  {
   "cell_type": "code",
   "execution_count": null,
   "metadata": {},
   "outputs": [],
   "source": [
    "print(\"Hello world!\")"
   ]
  },
  {
   "cell_type": "markdown",
   "metadata": {},
   "source": [
    "Execute the two code cells below. Note that variables defined in the first code cell can be used in the second cell without being redefined."
   ]
  },
  {
   "cell_type": "code",
   "execution_count": null,
   "metadata": {},
   "outputs": [],
   "source": [
    "str_1 = 'foo'\n",
    "str_2 = 'bar'"
   ]
  },
  {
   "cell_type": "code",
   "execution_count": null,
   "metadata": {},
   "outputs": [],
   "source": [
    "str_1 + str_2"
   ]
  },
  {
   "cell_type": "markdown",
   "metadata": {},
   "source": [
    "Use Python code to complete the function in the cell below. Similar to the example above, a function defined in one cell can be called in another cell.\n",
    "\n",
    "The function should take two integers *a* and *b* as inputs and return the sum of *a* and *b* as an integer."
   ]
  },
  {
   "cell_type": "code",
   "execution_count": null,
   "metadata": {},
   "outputs": [],
   "source": [
    "def add_ints(a, b):\n",
    "    # Your code here"
   ]
  },
  {
   "cell_type": "code",
   "execution_count": null,
   "metadata": {},
   "outputs": [],
   "source": [
    "add_ints(1, 3) # Should output 4."
   ]
  },
  {
   "cell_type": "markdown",
   "metadata": {},
   "source": [
    "You can also use the command ? or help() to get help on any built-in functions. For instance, sorted? or help(sorted)."
   ]
  },
  {
   "cell_type": "code",
   "execution_count": null,
   "metadata": {},
   "outputs": [],
   "source": [
    "sorted?"
   ]
  },
  {
   "cell_type": "markdown",
   "metadata": {},
   "source": [
    "You can run shell commands from the notebook by prefixing them with an `!`"
   ]
  },
  {
   "cell_type": "code",
   "execution_count": null,
   "metadata": {},
   "outputs": [],
   "source": [
    "!ls -lah"
   ]
  },
  {
   "cell_type": "markdown",
   "metadata": {},
   "source": [
    "## Keyboard shortcuts\n",
    "\n",
    "Below is a list of useful shortcuts. Try opening a new cell (a code cell by default) and converting it to a markdown cell. Try copying and pasting that cell. Play around with these shortcuts until you feel confident.\n",
    "* Shift-Enter : execute the code in the current cell\n",
    "* Enter : edit the current cell\n",
    "* ESC : stop editing a cell and return to \"command mode\" to use other hotkeys\n",
    "* m : turn the current cell into a Markdown cell\n",
    "* y : turn the current cell into a code cell\n",
    "* a : add a new cell above\n",
    "* b : add a new cell below\n",
    "* dd : delete the current cell\n",
    "* c : copy the current cell\n",
    "* v : paste the copied cell\n",
    "* z : undo\n"
   ]
  },
  {
   "cell_type": "markdown",
   "metadata": {},
   "source": [
    "For more information about using Jupyter notebooks, try this tutorial from AARNet:\n",
    "<https://aarnet.github.io/Introduction_to_Jupyter_notebooks/>"
   ]
  },
  {
   "cell_type": "markdown",
   "metadata": {},
   "source": [
    "In week 1, we will be doing some coding with genomics problems in Jupyter notebooks. If you would like to brush up on your Python skills before then, there are some resources waiting for you in the additional resources module in the LMS. If you know of a particularly good resource that other students might like to use, consider sharing it on the discussion board."
   ]
  },
  {
   "cell_type": "markdown",
   "metadata": {},
   "source": [
    "`Workshop developed by Steven Morgan, Dr Dieter Bulach and Dharmesh Bhuva.`"
   ]
  }
 ],
 "metadata": {
  "kernelspec": {
   "display_name": "Python 3",
   "language": "python",
   "name": "python3"
  },
  "language_info": {
   "codemirror_mode": {
    "name": "ipython",
    "version": 3
   },
   "file_extension": ".py",
   "mimetype": "text/x-python",
   "name": "python",
   "nbconvert_exporter": "python",
   "pygments_lexer": "ipython3",
   "version": "3.8.5"
  },
  "vscode": {
   "interpreter": {
    "hash": "741e1aa3b8431d35893605d2ba5004d08ba65e6ed61f5e9c402c507893633153"
   }
  }
 },
 "nbformat": 4,
 "nbformat_minor": 4
}
