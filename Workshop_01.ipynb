{
 "cells": [
  {
   "cell_type": "markdown",
   "metadata": {},
   "source": [
    "# Week 1 - Transcription & Translation"
   ]
  },
  {
   "cell_type": "markdown",
   "metadata": {},
   "source": [
    "<div class=\"info\">\n",
    "\n",
    "In this workshop, we will be writing Python code to perform tasks related to transcription and translation in silico. The workshop has two parts: writing functions from scratch, and using existing implementations and data structures to store and process sequences.\n",
    "\n",
    "Previous Python experience is expected for COMP90016 students. However, if you need to review some coding concepts, there are guides to help you in the `additional resources` modules on the LMS.\n",
    "\n",
    "You may also want to refer back to workshop 0 for some tips on using Jupyter notebooks.\n",
    "\n",
    "These exercises build on the concepts presented in the first week of lectures. We recommend watching them before completing the workshop.\n",
    "    \n",
    "</div>"
   ]
  },
  {
   "cell_type": "markdown",
   "metadata": {},
   "source": [
    "## Setup"
   ]
  },
  {
   "cell_type": "code",
   "execution_count": null,
   "metadata": {},
   "outputs": [],
   "source": [
    "import os\n",
    "import requests\n",
    "from IPython.core.display import HTML\n",
    "\n",
    "# Handy function to fetch our datafile\n",
    "def fetch_file(url): \n",
    "    response = requests.get(url)\n",
    "    if response.status_code == 200:\n",
    "        print('File found!')\n",
    "        filename = os.path.basename(url).split('?', 1)[0]\n",
    "        with open(filename, 'wb') as f:\n",
    "            f.write(response.content)\n",
    "            f.close()\n",
    "        print(f'Saved to: {filename}')\n",
    "    else:\n",
    "        print('File not found')"
   ]
  },
  {
   "cell_type": "code",
   "execution_count": null,
   "metadata": {},
   "outputs": [],
   "source": [
    "# Make the notebook pretty\n",
    "HTML(requests.get('https://raw.githubusercontent.com/melbournebioinformatics/COMP90016/main/data/2023/style/custom.css').text)"
   ]
  },
  {
   "cell_type": "code",
   "execution_count": null,
   "metadata": {},
   "outputs": [],
   "source": [
    "# Fetch the Week One data\n",
    "url = 'https://raw.githubusercontent.com/melbournebioinformatics/COMP90016/main/data/2023/Workshop_01/data/dnaA.fa'\n",
    "fetch_file(url)"
   ]
  },
  {
   "cell_type": "markdown",
   "metadata": {},
   "source": [
    "## Background"
   ]
  },
  {
   "cell_type": "markdown",
   "metadata": {},
   "source": [
    "Today we will be performing three common operations on DNA sequence strings. \n",
    "\n",
    "1. **Reverse Complementation**: Finding the complementary DNA string and flipping it to be in 5' --> 3' orientation.\n",
    "2. **Transcription**: Converting a DNA string into RNA\n",
    "3. **Translation**: Convert each DNA codon (group of 3 bases) into an amino acid.\n",
    "\n",
    "![DNA Operations](https://github.com/melbournebioinformatics/COMP90016/blob/main/data/2023/Workshop_01/media/dna_ops.png?raw=true)"
   ]
  },
  {
   "cell_type": "markdown",
   "metadata": {},
   "source": [
    "## Task 1 - Compute the reverse complement"
   ]
  },
  {
   "cell_type": "markdown",
   "metadata": {},
   "source": [
    "<div class=\"info\">\n",
    "\n",
    "First, we will write a script to determine the reverse complement of a given sequence. We begin by creating a dictionary of mappings.\n",
    "\n",
    "In this workshop we will not be considering the [extended DNA alphabet](http://www.bioinformatics.org/sms/iupac.html), only the 4 standard bases.\n",
    "</div>"
   ]
  },
  {
   "cell_type": "code",
   "execution_count": null,
   "metadata": {},
   "outputs": [],
   "source": [
    "complement_dict = {'A': 'T', 'T': 'A', 'C': 'G', 'G': 'C'}\n",
    "complement_dict['C']"
   ]
  },
  {
   "cell_type": "code",
   "execution_count": null,
   "metadata": {},
   "outputs": [],
   "source": [
    "dna_seq = 'ACTATTAAACCCATATAACCTCCCCCAAAATTCAGAATAATAAC'\n",
    "complement_seq = ''  # An empty string to store the reverse complement sequence.\n",
    "\n",
    "# Iterate through the bases of the DNA sequence and use the complement mapping dictionary to add the complementary bases to the rev_complement_seq string.\n",
    "for base in dna_seq:\n",
    "    complement_seq += complement_dict[base]\n",
    "    \n",
    "complement_seq"
   ]
  },
  {
   "cell_type": "markdown",
   "metadata": {},
   "source": [
    "This gives us the complement of `dna_seq`, but we still need to get the reverse. You can reverse a string using the code snippet `dna_seq[::-1]`. This is a shorter way to write `dna_seq[44::-1]` which means start at position 44, go all the way to the end (position 0 inclusive) and move with a step of -1 (step backwards). Try it out below."
   ]
  },
  {
   "cell_type": "code",
   "execution_count": null,
   "metadata": {},
   "outputs": [],
   "source": [
    "print(dna_seq)\n",
    "print(dna_seq[44::-1])\n",
    "print(dna_seq[::-1])"
   ]
  },
  {
   "cell_type": "code",
   "execution_count": null,
   "metadata": {},
   "outputs": [],
   "source": [
    "# Note: we do not modify the original DNA sequence variable. This allows it to be reused in other places.\n",
    "dna_seq"
   ]
  },
  {
   "cell_type": "markdown",
   "metadata": {},
   "source": [
    "We can apply this to `complement_seq` to get the reverse complement"
   ]
  },
  {
   "cell_type": "code",
   "execution_count": null,
   "metadata": {},
   "outputs": [],
   "source": [
    "complement_seq[::-1]"
   ]
  },
  {
   "cell_type": "markdown",
   "metadata": {},
   "source": [
    "All of this code can be combined and written as a function, so it can be reused."
   ]
  },
  {
   "cell_type": "code",
   "execution_count": null,
   "metadata": {},
   "outputs": [],
   "source": [
    "def rev_complement(seq):\n",
    "    \"\"\"\n",
    "    Compute the reverse complement of a given DNA sequence.\n",
    "    The input and output sequences should be DNA strings with capital letters. \n",
    "    \"\"\"\n",
    "    \n",
    "    complement_dict = {'A': 'T', 'T': 'A', 'C': 'G', 'G': 'C'}\n",
    "    complement_seq = ''\n",
    "    \n",
    "    # Iterate through the bases of the DNA sequence and use the complement mapping dictionary to add the complementary bases to the complement_seq string.\n",
    "    for base in seq:\n",
    "        complement_seq += complement_dict[base]\n",
    "        \n",
    "    rev_complement_seq = complement_seq[::-1]\n",
    "    \n",
    "    return rev_complement_seq"
   ]
  },
  {
   "cell_type": "code",
   "execution_count": null,
   "metadata": {},
   "outputs": [],
   "source": [
    "print(rev_complement('TAAAG')) # should give 'CTTTA'\n",
    "print(rev_complement(dna_seq))"
   ]
  },
  {
   "cell_type": "markdown",
   "metadata": {},
   "source": [
    "## Task 2 - Transcribe DNA sequences"
   ]
  },
  {
   "cell_type": "markdown",
   "metadata": {},
   "source": [
    "Here, we trancribe a DNA sequence into an RNA-sequence. \n",
    "\n",
    "<div class=info>\n",
    "<b>Challenge</b>: Write a function to transcribe a given DNA sequence. \n",
    "\n",
    "Note: When referring to the DNA sequence of a gene, we are referring to the coding strand by default.\n",
    "</div>"
   ]
  },
  {
   "cell_type": "code",
   "execution_count": null,
   "metadata": {
    "deletable": false,
    "nbgrader": {
     "cell_type": "code",
     "checksum": "521626f2f21ad17ec1b7f9ca48644c19",
     "grade": false,
     "grade_id": "T2-1",
     "locked": false,
     "schema_version": 3,
     "solution": true,
     "task": false
    }
   },
   "outputs": [],
   "source": [
    "def transcribe(dna):\n",
    "    \"\"\"\n",
    "    Compute the transcript resulting from a DNA sequence.\n",
    "    The input and output sequences should be DNA strings with capital letters.\n",
    "    \"\"\"\n",
    "    # Define a string that is identical to the input string but with 'T' replaced by 'U'.\n",
    "    \n",
    "    # YOUR CODE HERE\n",
    "    raise NotImplementedError()\n",
    "    \n",
    "    return(rna)"
   ]
  },
  {
   "cell_type": "code",
   "execution_count": null,
   "metadata": {},
   "outputs": [],
   "source": [
    "print(transcribe('ATAT')) # should give 'AUAU'\n",
    "print(transcribe(dna_seq))"
   ]
  },
  {
   "cell_type": "markdown",
   "metadata": {},
   "source": [
    "## Task 3 - Translate DNA sequences\n",
    "\n",
    "As with task 1, we will be needing a dictionary to help us map codons to their respective amino acids. We first form the dictionary from a text-based codon table."
   ]
  },
  {
   "cell_type": "code",
   "execution_count": null,
   "metadata": {},
   "outputs": [],
   "source": [
    "# Note: * represents the stop codon and M the start codon\n",
    "base1 = 'TTTTTTTTTTTTTTTTCCCCCCCCCCCCCCCCAAAAAAAAAAAAAAAAGGGGGGGGGGGGGGGG'\n",
    "base2 = 'TTTTCCCCAAAAGGGGTTTTCCCCAAAAGGGGTTTTCCCCAAAAGGGGTTTTCCCCAAAAGGGG'\n",
    "base3 = 'TCAGTCAGTCAGTCAGTCAGTCAGTCAGTCAGTCAGTCAGTCAGTCAGTCAGTCAGTCAGTCAG'\n",
    "aa = 'FFLLSSSSYY**CC*WLLLLPPPPHHQQRRRRIIIMTTTTNNKKSSRRVVVVAAAADDEEGGGG'\n",
    "\n",
    "codon_map = {} # Build a codon map using this dictionary.\n",
    "\n",
    "# Zip each codon and its corresponding amino acid together.\n",
    "# Concatenate the three bases of each codon and add them as keys to the codon_map dictionary with the amino acids as values.\n",
    "for nt1, nt2, nt3, aa1 in zip(base1, base2, base3, aa):\n",
    "    codon_map[nt1 + nt2 + nt3] = aa1\n",
    "codon_map"
   ]
  },
  {
   "cell_type": "markdown",
   "metadata": {},
   "source": [
    "<div class=\"info\">\n",
    "<b>Challenge:</b> Use your dictionary to compute the amino-acid sequence for the first reading frame (no offset in the sequence). \n",
    "    \n",
    "Note: You can use the `dict.get` function to return default values if the keys do not exist in the dictionary.\n",
    "</div>"
   ]
  },
  {
   "cell_type": "code",
   "execution_count": null,
   "metadata": {
    "deletable": false,
    "nbgrader": {
     "cell_type": "code",
     "checksum": "aaf04e095466ca8df01f0f8a342e0a6d",
     "grade": false,
     "grade_id": "T3-1",
     "locked": false,
     "schema_version": 3,
     "solution": true,
     "task": false
    }
   },
   "outputs": [],
   "source": [
    "def translate(dna, codon_dict):\n",
    "    \"\"\"\n",
    "    Translate a DNA sequence from the first reading frame, given a codon mapping dictionary.\n",
    "    Codons are keys and amino acids are values in this dictionary.\n",
    "    The input and output sequences should be DNA strings with capital letters.\n",
    "    \"\"\"\n",
    "    \n",
    "    aa_seq = '' # An empty string to store the amino-acid sequence.\n",
    "    \n",
    "    \n",
    "    # Iterate through the string with a step size of 3, \n",
    "    # using the codon_dict to add the correct amino acid \n",
    "    # to aa_seq according to the current codon. \n",
    "    \n",
    "    # YOUR CODE HERE\n",
    "    raise NotImplementedError()\n",
    "    \n",
    "    return(aa_seq)"
   ]
  },
  {
   "cell_type": "code",
   "execution_count": null,
   "metadata": {},
   "outputs": [],
   "source": [
    "print(translate('ATGATGA', codon_map)) # should give MM or MMX where X represents an incomplete codon\n",
    "print(translate(dna_seq, codon_map))"
   ]
  },
  {
   "cell_type": "markdown",
   "metadata": {},
   "source": [
    "<div class=\"info\">\n",
    "\n",
    "<b>Challenge</b>: Write a function that uses the above function to return the amino-acid sequence of all 6 reading frames. \n",
    "\n",
    "Hint: Three reading frames will be from the reverse complement strand.\n",
    "</div>"
   ]
  },
  {
   "cell_type": "code",
   "execution_count": null,
   "metadata": {
    "deletable": false,
    "nbgrader": {
     "cell_type": "code",
     "checksum": "4093518bd7a87d6449d74d83b62c350e",
     "grade": false,
     "grade_id": "T3-2",
     "locked": false,
     "schema_version": 3,
     "solution": true,
     "task": false
    }
   },
   "outputs": [],
   "source": [
    "def six_rfs(dna, codon_dict):\n",
    "    \"\"\"\n",
    "    Return the amino-acid sequence from all six reading frames of a sequence.\n",
    "    This function should use the translate function implemented earlier.\n",
    "    Return the result as a list of size 6. The list should contain amino-acid strings with capital letters.\n",
    "    The input sequence should be a DNA string with capital letters.\n",
    "    \"\"\"\n",
    "    \n",
    "    aaseqs = [] # An empty list to store the amino-acid sequences.\n",
    "    \n",
    "    # Call the translate function with the DNA sequence offset to return the translation for all six reading frames.\n",
    "    \n",
    "    # YOUR CODE HERE\n",
    "    raise NotImplementedError()\n",
    "    return aaseqs"
   ]
  },
  {
   "cell_type": "code",
   "execution_count": null,
   "metadata": {},
   "outputs": [],
   "source": [
    "# should give: (with or without the X)\n",
    "# 'TIKPI*PPPKFRIIX'\n",
    "# 'LLNPYNLPQNSE**X'\n",
    "# 'Y*THITSPKIQNNN'\n",
    "# 'VIILNFGGGYMGLIX'\n",
    "# 'LLF*ILGEVIWV**X'\n",
    "# 'YYSEFWGRLYGFNS'\n",
    "\n",
    "six_rfs(dna_seq, codon_map)"
   ]
  },
  {
   "cell_type": "markdown",
   "metadata": {},
   "source": [
    "## Task 4 - Using the scikit-bio library\n",
    "\n",
    "All of the above tasks can be performed using functions from the `scikit-bio` library. It provides functions and methods to read and parse some popular file formats, and store and modify sequences.\n",
    "\n",
    "`scikit-bio` is already installed on SWAN. If you are running this notebook on SWAN, you can skip to the import cell.\n",
    "\n",
    "If you are using your (Mac or Linux) local computer, you will have to install it by using the cell below. Note that the ! allows us to use UNIX commands from inside a Jupyter notebook. Unfortunately, there is no `scikit-bio` version for Windows computers."
   ]
  },
  {
   "cell_type": "code",
   "execution_count": null,
   "metadata": {},
   "outputs": [],
   "source": [
    "# Uncomment and execute the line below to install scikit-bio on your local machine using pip\n",
    "#!pip install scikit-bio\n",
    "\n",
    "# Alternative conda installation command\n",
    "#!conda install -c conda-forge scikit-bio"
   ]
  },
  {
   "cell_type": "code",
   "execution_count": null,
   "metadata": {},
   "outputs": [],
   "source": [
    "# Import the library\n",
    "import skbio"
   ]
  },
  {
   "cell_type": "markdown",
   "metadata": {},
   "source": [
    "`scikit-bio`, like many Python libraries, uses an object oriented programming paradigm. As an example, a DNA sequence is treated as an object. All objects have properties and behaviours. Properties could be metadata such as the sequence ID of a DNA sequence or its quality. Behaviours could be accessing the transcribed or translated sequence. Properties and behaviours are referred to as *attributes* and *methods* in Python."
   ]
  },
  {
   "cell_type": "code",
   "execution_count": null,
   "metadata": {},
   "outputs": [],
   "source": [
    "# Define an skbio.sequence.DNA object using the same test sequence we used above.\n",
    "# Note the additional statistics that are computed by default.\n",
    "\n",
    "dna_seq_skbio = skbio.sequence.DNA(dna_seq)\n",
    "dna_seq_skbio"
   ]
  },
  {
   "cell_type": "code",
   "execution_count": null,
   "metadata": {},
   "outputs": [],
   "source": [
    "# The alphabet used to encode a DNA sequence is an attribute of the skbio.sequence.DNA object.\n",
    "dna_seq_skbio.alphabet"
   ]
  },
  {
   "cell_type": "markdown",
   "metadata": {},
   "source": [
    "## Task 5 - skbio.sequence.DNA object methods\n",
    "\n",
    "Next we will load the sequence of a bacterial *dnaA* gene from a FASTA file in your data directory using the `skbio.io.read` function. Type `?skbio.io.read` in a code cell to access the help page for this function.\n",
    "\n",
    "A FASTA file stores sequence information. It is a common filetype that you will learn more about in lecture 6."
   ]
  },
  {
   "cell_type": "code",
   "execution_count": null,
   "metadata": {},
   "outputs": [],
   "source": [
    "dnaA = skbio.io.read('dnaA.fa', format = 'fasta', into = skbio.sequence.DNA)\n",
    "dnaA"
   ]
  },
  {
   "cell_type": "markdown",
   "metadata": {},
   "source": [
    "The above DNA object holds attributes such as a description and an ID. We can compute the complement of this sequence, transcribe it and translate it using functions from the scikit-bio library. For more information on all the functions and classes (DNA, RNA, etc.) the library provides, read the [documentation page](http://scikit-bio.org/docs/0.5.1/index.html)."
   ]
  },
  {
   "cell_type": "code",
   "execution_count": null,
   "metadata": {},
   "outputs": [],
   "source": [
    "dnaA.complement()"
   ]
  },
  {
   "cell_type": "code",
   "execution_count": null,
   "metadata": {},
   "outputs": [],
   "source": [
    "dnaA.reverse_complement()"
   ]
  },
  {
   "cell_type": "markdown",
   "metadata": {},
   "source": [
    "Note that `reverse_complement` is different to `complement`"
   ]
  },
  {
   "cell_type": "code",
   "execution_count": null,
   "metadata": {},
   "outputs": [],
   "source": [
    "dnaA.transcribe()"
   ]
  },
  {
   "cell_type": "code",
   "execution_count": null,
   "metadata": {},
   "outputs": [],
   "source": [
    "dnaA.translate()"
   ]
  },
  {
   "cell_type": "code",
   "execution_count": null,
   "metadata": {},
   "outputs": [],
   "source": [
    "list(dnaA.translate_six_frames())"
   ]
  },
  {
   "cell_type": "markdown",
   "metadata": {},
   "source": [
    "`Workshop developed by Steven Morgan, Dr Dieter Bulach and Dharmesh Bhuva.`"
   ]
  }
 ],
 "metadata": {
  "kernelspec": {
   "display_name": "Python 3 (ipykernel)",
   "language": "python",
   "name": "python3"
  },
  "language_info": {
   "codemirror_mode": {
    "name": "ipython",
    "version": 3
   },
   "file_extension": ".py",
   "mimetype": "text/x-python",
   "name": "python",
   "nbconvert_exporter": "python",
   "pygments_lexer": "ipython3",
   "version": "3.10.9"
  }
 },
 "nbformat": 4,
 "nbformat_minor": 4
}
